{
 "cells": [
  {
   "cell_type": "code",
   "execution_count": 1,
   "metadata": {},
   "outputs": [],
   "source": [
    "from chatterbot import ChatBot\n",
    "from chatterbot.trainers import ListTrainer\n"
   ]
  },
  {
   "cell_type": "code",
   "execution_count": 2,
   "metadata": {},
   "outputs": [],
   "source": [
    "bot = ChatBot(\n",
    "    'johnny2',\n",
    "    storage_adapter='chatterbot.storage.SQLStorageAdapter',\n",
    "    input_adapter='chatterbot.input.TerminalAdapter',\n",
    "    output_adapter='chatterbot.output.TerminalAdapter',\n",
    "    logic_adapters=[\n",
    "        \"chatterbot.logic.BestMatch\"\n",
    "    ],\n",
    "    databse='./database.sqlite3'\n",
    "    \n",
    "\n",
    ")"
   ]
  },
  {
   "cell_type": "code",
   "execution_count": 3,
   "metadata": {},
   "outputs": [
    {
     "name": "stdout",
     "output_type": "stream",
     "text": [
      "List Trainer: [####################] 100%\n"
     ]
    }
   ],
   "source": [
    "bot.set_trainer(ListTrainer)\n",
    "data=open('chats.txt').read()\n",
    "talk=data.strip().split('\\n')\n",
    "bot.train(talk)"
   ]
  },
  {
   "cell_type": "code",
   "execution_count": null,
   "metadata": {},
   "outputs": [
    {
     "name": "stdout",
     "output_type": "stream",
     "text": [
      "hi\n",
      "fine\n",
      "how r u \n",
      "what r u doing\n",
      "nothing\n",
      "ss\n",
      "then \n",
      "do your work in your hand\n",
      "yes\n",
      "the horse's name is friday\n",
      "why do u say that\n",
      "do you understand me\n",
      "yes i d o \n",
      "time is precious\n",
      "yea true \n",
      "very good\n",
      "whatsup\n",
      "lets enjoy every sunday\n",
      "sure what is the plan \n",
      "shut your mouth\n",
      "ok \n",
      "are you girl\n",
      "yes\n",
      "the horse's name is friday\n",
      "fuck off\n",
      "abishek\n",
      "no\n",
      "dont call me\n",
      "why\n",
      "20\n",
      "what is ur age\n",
      "hello\n",
      "hi\n",
      "fine\n",
      "how r u \n",
      "what r u doing\n",
      "nothing \n",
      "ss\n",
      "v\n",
      "are you okay baby ?\n",
      "ok\n",
      "are you girl\n",
      "noooo\n",
      "dont call me\n",
      "okkkkk\n",
      "are you girl\n"
     ]
    }
   ],
   "source": [
    "while True:\n",
    "    try:\n",
    "        bot_input = bot.get_response(None)\n",
    "        \n",
    "    except(KeyboardInterrupt, EOFError , SystemExit):\n",
    "        break"
   ]
  },
  {
   "cell_type": "code",
   "execution_count": null,
   "metadata": {},
   "outputs": [],
   "source": [
    "\n",
    "\n"
   ]
  },
  {
   "cell_type": "code",
   "execution_count": null,
   "metadata": {},
   "outputs": [],
   "source": []
  },
  {
   "cell_type": "code",
   "execution_count": null,
   "metadata": {},
   "outputs": [],
   "source": []
  }
 ],
 "metadata": {
  "kernelspec": {
   "display_name": "Python 3",
   "language": "python",
   "name": "python3"
  },
  "language_info": {
   "codemirror_mode": {
    "name": "ipython",
    "version": 3
   },
   "file_extension": ".py",
   "mimetype": "text/x-python",
   "name": "python",
   "nbconvert_exporter": "python",
   "pygments_lexer": "ipython3",
   "version": "3.6.5"
  }
 },
 "nbformat": 4,
 "nbformat_minor": 2
}
